{
 "cells": [
  {
   "cell_type": "code",
   "execution_count": 1,
   "metadata": {},
   "outputs": [],
   "source": [
    "import datacube_stats\n",
    "import matplotlib\n",
    "import os\n",
    "\n",
    "import numpy as np\n",
    "import rasterio.merge\n",
    "\n",
    "from rio_cogeo.cogeo import cog_translate\n",
    "from rio_cogeo.profiles import cog_profiles\n",
    "\n",
    "import yaml\n",
    "from datacube_stats import StatsApp\n",
    "from datacube import Datacube\n",
    "from datacube.helpers import write_geotiff"
   ]
  },
  {
   "cell_type": "code",
   "execution_count": 2,
   "metadata": {},
   "outputs": [],
   "source": [
    "bands = [('count_wet','int'),('count_clear','int'),('frequency','float')]\n",
    "\n",
    "filename='stats/ls8_wofs_victoria_3577_2018-01-01_2018-12-31_'\n",
    "overview_resampling = 'nearest'\n",
    "target_crs='EPSG:3577'\n",
    "\n",
    "result_name = 'wofs_summary'\n",
    "\n",
    "config_yaml = \"\"\"\n",
    "sources:\n",
    "  - product: ls8_usgs_wofs_scene\n",
    "    measurements: [water]\n",
    "    group_by: solar_day\n",
    "    mask_nodata: False\n",
    "    fuse_func: digitalearthau.utils.wofs_fuser\n",
    "\n",
    "date_ranges:\n",
    "    start_date: 2018-01-01\n",
    "    end_date: 2018-12-31\n",
    "storage:\n",
    "    # this driver enables in-memory computation\n",
    "    driver: xarray\n",
    "    crs: EPSG:3577\n",
    "    tile_size:\n",
    "        x: 160000.0\n",
    "        y: 160000.0\n",
    "    resolution:\n",
    "        x: 30\n",
    "        y: -30\n",
    "    chunking:\n",
    "        x: 200\n",
    "        y: 200\n",
    "        time: 1\n",
    "    dimension_order: [time, y, x]\n",
    "computation:\n",
    "    chunking:\n",
    "        x: 800\n",
    "        y: 800\n",
    "\n",
    "input_region:\n",
    "    \"geometry\": {\n",
    "        \"type\": \"Polygon\",\n",
    "        \"coordinates\": [ [\n",
    "            [ 146.1199562, -38.536405 ],\n",
    "            [ 148.8113995, -38.536405 ],\n",
    "            [ 148.8113995, -36.4012989 ],\n",
    "            [ 146.1199562, -36.4012989 ],\n",
    "            [ 146.1199562, -38.536405 ]\n",
    "          ] ]\n",
    "      }\n",
    "\n",
    "output_products:\n",
    "  - name: wofs_summary\n",
    "    statistic: wofs_summary\n",
    "    product_type: wofs_statistical_summary\n",
    "\"\"\""
   ]
  },
  {
   "cell_type": "code",
   "execution_count": 3,
   "metadata": {},
   "outputs": [],
   "source": [
    "def create_cog(input, output, overview_resampling, bidx):\n",
    "    cogeo_profile = 'deflate'\n",
    "    nodata = -1\n",
    "    overview_level = 6\n",
    "    overview_resampling = overview_resampling\n",
    "    threads = 8\n",
    "    \n",
    "    output_profile = cog_profiles.get(cogeo_profile)\n",
    "    output_profile.update(dict(BIGTIFF=os.environ.get(\"BIGTIFF\", \"IF_SAFER\")))\n",
    "    \n",
    "    block_size = min(\n",
    "        int(output_profile[\"blockxsize\"]), int(output_profile[\"blockysize\"])\n",
    "    )\n",
    "\n",
    "    config = dict(\n",
    "        NUM_THREADS=threads,\n",
    "        GDAL_TIFF_INTERNAL_MASK=os.environ.get(\"GDAL_TIFF_INTERNAL_MASK\", True),\n",
    "        GDAL_TIFF_OVR_BLOCKSIZE=os.environ.get(\"GDAL_TIFF_OVR_BLOCKSIZE\", block_size),\n",
    "    )\n",
    "    print('creating '+output)\n",
    "    \n",
    "    \n",
    "    cog_translate(\n",
    "        src_path=input,\n",
    "        dst_path=output,\n",
    "        dst_kwargs=output_profile,\n",
    "        indexes=bidx,\n",
    "        nodata=nodata,\n",
    "        web_optimized=False,\n",
    "        add_mask=False,\n",
    "        overview_level=overview_level,\n",
    "        overview_resampling=overview_resampling,\n",
    "        config=config,\n",
    "        quiet=False\n",
    "    )\n",
    "    print('created '+output)"
   ]
  },
  {
   "cell_type": "code",
   "execution_count": 4,
   "metadata": {},
   "outputs": [],
   "source": [
    "def write_stats_band_tile(stats, key, filename, target_crs):\n",
    "    slim_dataset = stats[[key]].squeeze()  # create a one band dataset\n",
    "    attrs = slim_dataset[key].attrs.copy()  # To get nodata in\n",
    "    slim_dataset.attrs['crs'] = target_crs\n",
    "    output_filename = filename+key+'_'+str(tile_no)+'_TEMP'+'.tif'\n",
    "    write_geotiff(output_filename, slim_dataset, profile_override=attrs)\n",
    "    return output_filename"
   ]
  },
  {
   "cell_type": "code",
   "execution_count": 5,
   "metadata": {},
   "outputs": [],
   "source": [
    "def combine_tiles(tiles_locations,band,filename):\n",
    "    key = band[0]\n",
    "    inbound_dtype = band[1]\n",
    "    files = tiles_locations[key]\n",
    "    output_filename = filename+key+'_TEMP'+'.tif'\n",
    "    sources = [rasterio.open(path) for path in files]\n",
    "    dest, out_transform = rasterio.merge.merge(sources)\n",
    "\n",
    "    with rasterio.open(files[0]) as src:\n",
    "        profile = src.profile\n",
    "    \n",
    "    profile['transform'] = out_transform\n",
    "    profile['width'] = len(dest[0][0])\n",
    "    profile['height'] = len(dest[0])\n",
    "    \n",
    "    with rasterio.open(output_filename, 'w', **profile) as dst:\n",
    "        if inbound_dtype == 'int':\n",
    "            dst.write(dest.astype(rasterio.int16))\n",
    "        elif inbound_dtype == 'float':\n",
    "            dst.write(dest.astype(rasterio.float32))\n",
    "    \n",
    "    [os.remove(path) for path in files]\n",
    "    return output_filename"
   ]
  },
  {
   "cell_type": "code",
   "execution_count": 6,
   "metadata": {
    "scrolled": true
   },
   "outputs": [
    {
     "name": "stdout",
     "output_type": "stream",
     "text": [
      "creating stats/ls8_wofs_victoria_3577_2018-01-01_2018-12-31_count_wet.tif\n"
     ]
    },
    {
     "name": "stderr",
     "output_type": "stream",
     "text": [
      "Reading input: stats/ls8_wofs_victoria_3577_2018-01-01_2018-12-31_count_wet_TEMP.tif\n",
      "\n",
      "Adding overviews...\n",
      "Updating dataset tags...\n",
      "Writing output to: stats/ls8_wofs_victoria_3577_2018-01-01_2018-12-31_count_wet.tif\n"
     ]
    },
    {
     "name": "stdout",
     "output_type": "stream",
     "text": [
      "created stats/ls8_wofs_victoria_3577_2018-01-01_2018-12-31_count_wet.tif\n",
      "creating stats/ls8_wofs_victoria_3577_2018-01-01_2018-12-31_count_clear.tif\n"
     ]
    },
    {
     "name": "stderr",
     "output_type": "stream",
     "text": [
      "Reading input: stats/ls8_wofs_victoria_3577_2018-01-01_2018-12-31_count_clear_TEMP.tif\n",
      "\n",
      "Adding overviews...\n",
      "Updating dataset tags...\n",
      "Writing output to: stats/ls8_wofs_victoria_3577_2018-01-01_2018-12-31_count_clear.tif\n"
     ]
    },
    {
     "name": "stdout",
     "output_type": "stream",
     "text": [
      "created stats/ls8_wofs_victoria_3577_2018-01-01_2018-12-31_count_clear.tif\n",
      "creating stats/ls8_wofs_victoria_3577_2018-01-01_2018-12-31_frequency.tif\n"
     ]
    },
    {
     "name": "stderr",
     "output_type": "stream",
     "text": [
      "Reading input: stats/ls8_wofs_victoria_3577_2018-01-01_2018-12-31_frequency_TEMP.tif\n",
      "\n",
      "Adding overviews...\n",
      "Updating dataset tags...\n",
      "Writing output to: stats/ls8_wofs_victoria_3577_2018-01-01_2018-12-31_frequency.tif\n"
     ]
    },
    {
     "name": "stdout",
     "output_type": "stream",
     "text": [
      "created stats/ls8_wofs_victoria_3577_2018-01-01_2018-12-31_frequency.tif\n"
     ]
    }
   ],
   "source": [
    "config = yaml.load(config_yaml)\n",
    "\n",
    "dc = Datacube()\n",
    "app = StatsApp(config, dc.index)\n",
    "\n",
    "tasks = app.generate_tasks(dc.index)\n",
    "\n",
    "tile_no = 0\n",
    "stats_tiles_locations = {}\n",
    "stats = None\n",
    "for band in bands:\n",
    "    stats_tiles_locations[band[0]] = []\n",
    "\n",
    "for task in tasks:\n",
    "    stats = app.execute_task(task).result[result_name]\n",
    "    for band in bands:\n",
    "        stats_tiles_locations[band[0]].append(write_stats_band_tile(stats,band[0],filename,target_crs))\n",
    "    tile_no = tile_no + 1\n",
    "    del stats\n",
    "    \n",
    "for band in bands:\n",
    "    uncogged_output_file = combine_tiles(stats_tiles_locations,band,filename)\n",
    "    target_filename = filename+band[0]+'.tif'\n",
    "    #as we have created this bands separately, band index (bidx) is always 0\n",
    "    bidx = 0\n",
    "    create_cog(uncogged_output_file, target_filename, overview_resampling, bidx)\n",
    "    os.remove(uncogged_output_file)"
   ]
  }
 ],
 "metadata": {
  "kernelspec": {
   "display_name": "Python 3",
   "language": "python",
   "name": "python3"
  },
  "language_info": {
   "codemirror_mode": {
    "name": "ipython",
    "version": 3
   },
   "file_extension": ".py",
   "mimetype": "text/x-python",
   "name": "python",
   "nbconvert_exporter": "python",
   "pygments_lexer": "ipython3",
   "version": "3.6.8"
  }
 },
 "nbformat": 4,
 "nbformat_minor": 2
}
